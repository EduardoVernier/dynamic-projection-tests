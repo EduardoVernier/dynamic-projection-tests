{
 "cells": [
  {
   "cell_type": "code",
   "execution_count": 1,
   "metadata": {},
   "outputs": [],
   "source": [
    "# Datasets from https://console.cloud.google.com/storage/browser/quickdraw_dataset/full/simplified\n",
    "%matplotlib inline \n",
    "import numpy as np\n",
    "import matplotlib.pyplot as plt\n",
    "import cv2\n",
    "import ndjson\n",
    "import time\n",
    "import random\n",
    "import glob\n",
    "import re\n",
    "import os\n",
    "\n",
    "N_ITEMS_PER_CLASS = 20\n",
    "IMG_SIZE = 28  # 28x28"
   ]
  },
  {
   "cell_type": "code",
   "execution_count": 2,
   "metadata": {},
   "outputs": [],
   "source": [
    "def select_samples_from_class(data):\n",
    "    ''' Select only recognized samples. '''\n",
    "    random.seed(0)\n",
    "    indexes = [i for i, sample in enumerate(data) if sample['recognized']]\n",
    "    random.shuffle(indexes)\n",
    "    return indexes[:N_ITEMS_PER_CLASS]"
   ]
  },
  {
   "cell_type": "code",
   "execution_count": 3,
   "metadata": {},
   "outputs": [],
   "source": [
    "def save_drawings(data, sample_indexes, class_title):\n",
    "    ''' Generates multiple images per sample. '''\n",
    "    for i in sample_indexes:     \n",
    "        lines = []\n",
    "        for line in data[i]['drawing']:\n",
    "            # Scale img to IMG_SIZE\n",
    "            scaler = IMG_SIZE / 255.0  \n",
    "            line[0] = [int(l * scaler) for l in line[0]]\n",
    "            line[1] = [int(l * scaler) for l in line[1]] \n",
    "            \n",
    "            # Connect lines\n",
    "            unique_vertices = list(zip(line[0], line[1]))\n",
    "            for j in range(len(unique_vertices)-1):\n",
    "                lines.append([unique_vertices[j], unique_vertices[j+1]])\n",
    "\n",
    "            # Generate images\n",
    "            os.makedirs('datasets/quickdraw/{}/'.format(class_title), exist_ok=True)\n",
    "            img = np.zeros((IMG_SIZE, IMG_SIZE))\n",
    "            for t, line in enumerate(lines):\n",
    "                img = cv2.line(img, line[0], line[1], thickness=1, color=(1,1,1))\n",
    "                cv2.imwrite('datasets/quickdraw/{}/{}-{}-{}.png'.format(class_title, class_title, i, t), img*255)\n",
    "#             plt.figure()\n",
    "#             plt.imshow(img)"
   ]
  },
  {
   "cell_type": "code",
   "execution_count": 4,
   "metadata": {},
   "outputs": [
    {
     "data": {
      "text/plain": [
       "['raw_datasets/quickdraw/baseball.ndjson',\n",
       " 'raw_datasets/quickdraw/cello.ndjson',\n",
       " 'raw_datasets/quickdraw/bicycle.ndjson',\n",
       " 'raw_datasets/quickdraw/banana.ndjson',\n",
       " 'raw_datasets/quickdraw/carrot.ndjson',\n",
       " 'raw_datasets/quickdraw/airplane.ndjson']"
      ]
     },
     "execution_count": 4,
     "metadata": {},
     "output_type": "execute_result"
    }
   ],
   "source": [
    "file_paths = [f for f in glob.glob(\"raw_datasets/quickdraw/*.ndjson\")]\n",
    "file_paths"
   ]
  },
  {
   "cell_type": "code",
   "execution_count": 5,
   "metadata": {},
   "outputs": [],
   "source": [
    "for file_path in file_paths:\n",
    "    with open(file_path) as f:\n",
    "        match = re.match(r'.*/(\\w*).ndjson', file_path)\n",
    "        if match:\n",
    "            class_title = match.group(1)\n",
    "\n",
    "        data = ndjson.load(f)\n",
    "        sample_indexes = select_samples_from_class(data)\n",
    "        save_drawings(data, sample_indexes, class_title)"
   ]
  }
 ],
 "metadata": {
  "kernelspec": {
   "display_name": "Python 3",
   "language": "python",
   "name": "python3"
  },
  "language_info": {
   "codemirror_mode": {
    "name": "ipython",
    "version": 3
   },
   "file_extension": ".py",
   "mimetype": "text/x-python",
   "name": "python",
   "nbconvert_exporter": "python",
   "pygments_lexer": "ipython3",
   "version": "3.5.2"
  }
 },
 "nbformat": 4,
 "nbformat_minor": 2
}
