{
 "cells": [
  {
   "cell_type": "code",
   "execution_count": 1,
   "metadata": {},
   "outputs": [],
   "source": [
    "%matplotlib inline \n",
    "import numpy as np\n",
    "import matplotlib.pyplot as plt\n",
    "import matplotlib.patches as patches\n",
    "from matplotlib.path import Path\n",
    "import ndjson\n",
    "import time"
   ]
  },
  {
   "cell_type": "code",
   "execution_count": 2,
   "metadata": {},
   "outputs": [],
   "source": [
    "# https://console.cloud.google.com/storage/browser/quickdraw_dataset/full/simplified\n",
    "with open('datasets/quickdraw/{}.ndjson'.format('airplanes')) as f:\n",
    "    data = ndjson.load(f)"
   ]
  },
  {
   "cell_type": "code",
   "execution_count": 3,
   "metadata": {
    "scrolled": true
   },
   "outputs": [
    {
     "data": {
      "text/plain": [
       "151623"
      ]
     },
     "execution_count": 3,
     "metadata": {},
     "output_type": "execute_result"
    }
   ],
   "source": [
    "len(data)"
   ]
  },
  {
   "cell_type": "code",
   "execution_count": 9,
   "metadata": {
    "scrolled": true
   },
   "outputs": [],
   "source": [
    "sample = data[0]"
   ]
  },
  {
   "cell_type": "code",
   "execution_count": 13,
   "metadata": {},
   "outputs": [
    {
     "data": {
      "text/plain": [
       "[[(167, 140), (109, 194)],\n",
       " [(109, 194), (80, 227)],\n",
       " [(80, 227), (69, 232)],\n",
       " [(69, 232), (58, 229)],\n",
       " [(58, 229), (31, 229)],\n",
       " [(31, 229), (57, 206)],\n",
       " [(57, 206), (117, 124)],\n",
       " [(117, 124), (99, 123)],\n",
       " [(99, 123), (52, 149)],\n",
       " [(52, 149), (30, 157)],\n",
       " [(30, 157), (6, 159)],\n",
       " [(6, 159), (1, 153)],\n",
       " [(1, 153), (2, 110)],\n",
       " [(2, 110), (66, 82)],\n",
       " [(66, 82), (98, 77)],\n",
       " [(98, 77), (253, 74)],\n",
       " [(253, 74), (254, 109)],\n",
       " [(254, 109), (246, 121)],\n",
       " [(246, 121), (182, 127)],\n",
       " [(182, 127), (165, 120)],\n",
       " [(207, 74), (207, 103)],\n",
       " [(207, 103), (210, 114)],\n",
       " [(210, 114), (221, 128)],\n",
       " [(221, 128), (238, 135)],\n",
       " [(119, 72), (107, 41)],\n",
       " [(107, 41), (76, 3)],\n",
       " [(76, 3), (70, 0)],\n",
       " [(70, 0), (49, 1)],\n",
       " [(49, 1), (39, 5)],\n",
       " [(39, 5), (60, 38)],\n",
       " [(60, 38), (93, 70)]]"
      ]
     },
     "execution_count": 13,
     "metadata": {},
     "output_type": "execute_result"
    }
   ],
   "source": [
    "lines = []\n",
    "for line in sample['drawing']:\n",
    "    unique_vertices = list(zip(line[0], line[1]))\n",
    "    for i in range(len(unique_vertices) - 1):\n",
    "        lines.append([unique_vertices[i], unique_vertices[i + 1]])\n",
    "    \n",
    "lines"
   ]
  },
  {
   "cell_type": "code",
   "execution_count": 6,
   "metadata": {},
   "outputs": [],
   "source": [
    "# unique_vertices = list(zip(strokes_x, strokes_y))\n",
    "# lines = []\n",
    "# for i in range(len(unique_vertices) - 1):\n",
    "#     lines.append([unique_vertices[i], unique_vertices[i + 1]])\n",
    "# lines"
   ]
  },
  {
   "cell_type": "code",
   "execution_count": 16,
   "metadata": {},
   "outputs": [
    {
     "data": {
      "text/plain": [
       "<Figure size 10x10 with 0 Axes>"
      ]
     },
     "metadata": {},
     "output_type": "display_data"
    },
    {
     "data": {
      "image/png": "[encoded data removed]",
      "text/plain": [
       "<Figure size 432x288 with 1 Axes>"
      ]
     },
     "metadata": {
      "needs_background": "light"
     },
     "output_type": "display_data"
    }
   ],
   "source": [
    "my_dpi = 20\n",
    "fig = plt.figure(frameon=False, figsize=(10/my_dpi, 10/my_dpi), dpi=my_dpi)\n",
    "\n",
    "arr = np.zeros((255,255))\n",
    "fig,ax = plt.subplots(1)\n",
    "\n",
    "ax.imshow(arr, cmap='binary', aspect='equal')\n",
    "\n",
    "ax.set_axis_off()\n",
    "fig.add_axes(ax)\n",
    "\n",
    "for i, line in enumerate(lines):\n",
    "    path = Path(line)\n",
    "    patch = patches.PathPatch(path, lw=10)\n",
    "    ax.add_patch(patch)\n",
    "    plt.savefig('airplane/airplane-{}.png'.format(i), pad_inches=0, bbox_inches='tight', dpi=my_dpi)\n",
    "plt.show()"
   ]
  },
  {
   "cell_type": "code",
   "execution_count": 17,
   "metadata": {},
   "outputs": [],
   "source": [
    "!mogrify -resize 28x28 airplane/*.png"
   ]
  }
 ],
 "metadata": {
  "kernelspec": {
   "display_name": "Python 3",
   "language": "python",
   "name": "python3"
  },
  "language_info": {
   "codemirror_mode": {
    "name": "ipython",
    "version": 3
   },
   "file_extension": ".py",
   "mimetype": "text/x-python",
   "name": "python",
   "nbconvert_exporter": "python",
   "pygments_lexer": "ipython3",
   "version": "3.5.2"
  }
 },
 "nbformat": 4,
 "nbformat_minor": 2
}
