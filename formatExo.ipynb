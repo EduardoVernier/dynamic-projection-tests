{
 "cells": [
  {
   "cell_type": "code",
   "execution_count": 34,
   "metadata": {},
   "outputs": [],
   "source": [
    "import pandas as pd\n",
    "import glob\n",
    "from natsort import natsorted"
   ]
  },
  {
   "cell_type": "code",
   "execution_count": null,
   "metadata": {},
   "outputs": [],
   "source": []
  },
  {
   "cell_type": "code",
   "execution_count": 21,
   "metadata": {},
   "outputs": [],
   "source": [
    "header=['id','AvgCyclomatic', 'AvgCyclomaticModified', 'AvgCyclomaticStrict',\n",
    "           'AvgEssential', 'AvgLine', 'AvgLineBlank', 'AvgLineCode',\n",
    "           'AvgLineComment', 'CountClassBase', 'CountClassCoupled',\n",
    "           'CountClassDerived', 'CountDeclClassMethod', 'CountDeclClassVariable',\n",
    "           'CountDeclInstanceMethod', 'CountDeclInstanceVariable',\n",
    "           'CountDeclMethod', 'CountDeclMethodAll', 'CountDeclMethodDefault',\n",
    "           'CountDeclMethodPrivate', 'CountDeclMethodProtected',\n",
    "           'CountDeclMethodPublic', 'CountLine', 'CountLineBlank', 'CountLineCode',\n",
    "           'CountLineCodeDecl', 'CountLineCodeExe', 'CountLineComment',\n",
    "           'CountSemicolon', 'CountStmt', 'CountStmtDecl', 'CountStmtExe',\n",
    "           'MaxCyclomatic', 'MaxCyclomaticModified', 'MaxCyclomaticStrict',\n",
    "           'MaxEssential', 'MaxInheritanceTree', 'MaxNesting',\n",
    "           'PercentLackOfCohesion', 'RatioCommentToCode', 'SumCyclomatic',\n",
    "           'SumCyclomaticModified', 'SumCyclomaticStrict', 'SumEssential']"
   ]
  },
  {
   "cell_type": "code",
   "execution_count": 56,
   "metadata": {},
   "outputs": [],
   "source": [
    "! mkdir ./datasets/ExoPlayer-100"
   ]
  },
  {
   "cell_type": "code",
   "execution_count": 57,
   "metadata": {
    "scrolled": true
   },
   "outputs": [],
   "source": [
    "for fname in natsorted(glob.glob('./raw_datasets/ExoPlayer-100/*')):\n",
    "    df = pd.read_csv(fname, sep=';', skiprows=[0,1,2,3],\n",
    "                   names=header, index_col=False)\n",
    "    df['id'] = df['id'].str.rsplit('.', n=1, expand=False).str.join(sep='-')\n",
    "    fname = fname.replace('raw_', '').replace('ExoPlayer.', 'exoplayerstd-').replace('.data', '.csv')\n",
    "    \n",
    "#     display(df)\n",
    "    df.to_csv(fname, index=False)\n",
    "#     break\n"
   ]
  },
  {
   "cell_type": "code",
   "execution_count": 58,
   "metadata": {},
   "outputs": [],
   "source": [
    "! mkdir ./datasets/RxJava-100"
   ]
  },
  {
   "cell_type": "code",
   "execution_count": 59,
   "metadata": {},
   "outputs": [],
   "source": [
    "for fname in natsorted(glob.glob('./raw_datasets/RxJava-100/*')):\n",
    "    df = pd.read_csv(fname, sep=';', skiprows=[0,1,2,3],\n",
    "                   names=header, index_col=False)\n",
    "    df['id'] = df['id'].str.rsplit('.', n=1, expand=False).str.join(sep='-')\n",
    "    fname = fname.replace('raw_', '').replace('RxJava.', 'rxjavastd-').replace('.data', '.csv')\n",
    "    \n",
    "#     display(df)\n",
    "    df.to_csv(fname, index=False)\n",
    "#     break\n"
   ]
  },
  {
   "cell_type": "code",
   "execution_count": 60,
   "metadata": {},
   "outputs": [],
   "source": [
    "! mkdir ./datasets/VertX-100"
   ]
  },
  {
   "cell_type": "code",
   "execution_count": 61,
   "metadata": {},
   "outputs": [],
   "source": [
    "for fname in natsorted(glob.glob('./raw_datasets/VertX-100/*')):\n",
    "    df = pd.read_csv(fname, sep=';', skiprows=[0,1,2,3],\n",
    "                   names=header, index_col=False)\n",
    "    df['id'] = df['id'].str.rsplit('.', n=1, expand=False).str.join(sep='-')\n",
    "    fname = fname.replace('raw_', '').replace('VertX.', 'vertxstd-').replace('.data', '.csv')\n",
    "    \n",
    "#     display(df)\n",
    "    df.to_csv(fname, index=False)\n",
    "#     break\n"
   ]
  }
 ],
 "metadata": {
  "kernelspec": {
   "display_name": "Python 3",
   "language": "python",
   "name": "python3"
  },
  "language_info": {
   "codemirror_mode": {
    "name": "ipython",
    "version": 3
   },
   "file_extension": ".py",
   "mimetype": "text/x-python",
   "name": "python",
   "nbconvert_exporter": "python",
   "pygments_lexer": "ipython3",
   "version": "3.5.2"
  }
 },
 "nbformat": 4,
 "nbformat_minor": 2
}
